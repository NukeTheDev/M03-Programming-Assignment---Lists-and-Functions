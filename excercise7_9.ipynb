{
 "cells": [
  {
   "cell_type": "code",
   "execution_count": null,
   "id": "11037ed4",
   "metadata": {},
   "outputs": [],
   "source": [
    "years_list = [1999, 2000, 2001, 2002, 2003, 2004]"
   ]
  },
  {
   "cell_type": "markdown",
   "id": "e790d41d",
   "metadata": {},
   "source": [
    "I was 3 years old in 2002"
   ]
  },
  {
   "cell_type": "markdown",
   "id": "40f32e75",
   "metadata": {},
   "source": [
    "I was the oldest in 2004"
   ]
  },
  {
   "cell_type": "code",
   "execution_count": 5,
   "id": "54c3879b",
   "metadata": {},
   "outputs": [],
   "source": [
    "# Create a list of strings\n",
    "things = [\"mozzarella\", \"cinderella\", \"salmonella\"]"
   ]
  },
  {
   "cell_type": "code",
   "execution_count": 6,
   "id": "db458543",
   "metadata": {},
   "outputs": [],
   "source": [
    "# Capitalize the second string in the list\n",
    "things[1] = things[1].capitalize()"
   ]
  },
  {
   "cell_type": "code",
   "execution_count": 7,
   "id": "aef43837",
   "metadata": {},
   "outputs": [
    {
     "name": "stdout",
     "output_type": "stream",
     "text": [
      "['mozzarella', 'Cinderella', 'salmonella']\n"
     ]
    }
   ],
   "source": [
    "# Print the updated list\n",
    "print(things)"
   ]
  },
  {
   "cell_type": "code",
   "execution_count": 8,
   "id": "ec1704e6",
   "metadata": {},
   "outputs": [],
   "source": [
    "# Capitalize the first string in the list\n",
    "things[0] = things[0].upper()"
   ]
  },
  {
   "cell_type": "code",
   "execution_count": 9,
   "id": "dab393ba",
   "metadata": {},
   "outputs": [
    {
     "name": "stdout",
     "output_type": "stream",
     "text": [
      "['MOZZARELLA', 'Cinderella', 'salmonella']\n"
     ]
    }
   ],
   "source": [
    "# Print the updated list\n",
    "print(things)"
   ]
  },
  {
   "cell_type": "code",
   "execution_count": 10,
   "id": "e1f50501",
   "metadata": {},
   "outputs": [],
   "source": [
    "# Delete the third string in the list\n",
    "del things[2]"
   ]
  },
  {
   "cell_type": "code",
   "execution_count": 11,
   "id": "979fe277",
   "metadata": {},
   "outputs": [
    {
     "name": "stdout",
     "output_type": "stream",
     "text": [
      "['MOZZARELLA', 'Cinderella']\n"
     ]
    }
   ],
   "source": [
    "# Print the updated list\n",
    "print(things)"
   ]
  },
  {
   "cell_type": "code",
   "execution_count": 12,
   "id": "005bf770",
   "metadata": {},
   "outputs": [],
   "source": [
    "# Create a list of strings\n",
    "surprise = [\"Groucho\", \"Chico\", \"Harpo\"]"
   ]
  },
  {
   "cell_type": "code",
   "execution_count": 13,
   "id": "bc2791c4",
   "metadata": {},
   "outputs": [],
   "source": [
    "# Reverse the last string in the list, make it lowercase, then capitalize the first letter\n",
    "surprise[-1] = surprise[-1].lower()[::-1].capitalize()"
   ]
  },
  {
   "cell_type": "code",
   "execution_count": 14,
   "id": "a6ac18d3",
   "metadata": {},
   "outputs": [
    {
     "name": "stdout",
     "output_type": "stream",
     "text": [
      "['Groucho', 'Chico', 'Oprah']\n"
     ]
    }
   ],
   "source": [
    "# Print the updated list\n",
    "print(surprise)"
   ]
  },
  {
   "cell_type": "code",
   "execution_count": 15,
   "id": "7ef0ab60",
   "metadata": {},
   "outputs": [],
   "source": [
    "# Create a list of even numbers from 0 to 9\n",
    "even = [num for num in range(10) if num % 2 == 0]"
   ]
  },
  {
   "cell_type": "code",
   "execution_count": 16,
   "id": "df2ee21b",
   "metadata": {},
   "outputs": [
    {
     "name": "stdout",
     "output_type": "stream",
     "text": [
      "[0, 2, 4, 6, 8]\n"
     ]
    }
   ],
   "source": [
    "# Print the list of even numbers\n",
    "print(even)"
   ]
  },
  {
   "cell_type": "code",
   "execution_count": 3,
   "id": "4edab7b8",
   "metadata": {},
   "outputs": [
    {
     "name": "stdout",
     "output_type": "stream",
     "text": [
      "Fee! Fie! Foe! Flop!\n",
      "Someone better \n",
      "get a mop.\n",
      "Fee! Fie! Foe! Fope!\n",
      "Someone better \n",
      "turn the rope.\n",
      "Fee! Fie! Foe! Fa!\n",
      "Someone better \n",
      "get your ma.\n",
      "Fee! Fie! Foe! Fudge!\n",
      "Someone better \n",
      "call the judge.\n",
      "Fee! Fie! Foe! Fat!\n",
      "Someone better \n",
      "pet the cat.\n",
      "Fee! Fie! Foe! Fog!\n",
      "Someone better \n",
      "walk the dog.\n",
      "Fee! Fie! Foe! Fun!\n",
      "Someone better \n",
      "say we're done.\n"
     ]
    }
   ],
   "source": [
    "# Create three strings\n",
    "start1 = [\"fee\", \"fie\", \"foe\"]\n",
    "\n",
    "# Create a list of tuples, each containing two strings\n",
    "rhymes = [\n",
    "    (\"flop\", \"get a mop\"),\n",
    "    (\"fope\", \"turn the rope\"),\n",
    "    (\"fa\", \"get your ma\"),\n",
    "    (\"fudge\", \"call the judge\"),\n",
    "    (\"fat\", \"pet the cat\"),\n",
    "    (\"fog\", \"walk the dog\"),\n",
    "    (\"fun\", \"say we're done\"),\n",
    "]\n",
    "\n",
    "# Create another string\n",
    "start2 = \"Someone better\"\n",
    "\n",
    "# for loop through each tuple in the list\n",
    "for first, second in rhymes:\n",
    "    # Print the first line of the rhyme\n",
    "    for word in start1:\n",
    "        print(word.capitalize() + \"!\", end=\" \")\n",
    "    print(first.capitalize() + \"!\")\n",
    "\n",
    "    # Print the second line of the rhyme with a period at the end\n",
    "    print(start2 + \" \")\n",
    "    print(second + \".\")"
   ]
  },
  {
   "cell_type": "code",
   "execution_count": null,
   "id": "920a2637",
   "metadata": {},
   "outputs": [],
   "source": [
    "# Print the updated list\n",
    "print(things)"
   ]
  }
 ],
 "metadata": {
  "kernelspec": {
   "display_name": "Python 3 (ipykernel)",
   "language": "python",
   "name": "python3"
  },
  "language_info": {
   "codemirror_mode": {
    "name": "ipython",
    "version": 3
   },
   "file_extension": ".py",
   "mimetype": "text/x-python",
   "name": "python",
   "nbconvert_exporter": "python",
   "pygments_lexer": "ipython3",
   "version": "3.10.9"
  }
 },
 "nbformat": 4,
 "nbformat_minor": 5
}
